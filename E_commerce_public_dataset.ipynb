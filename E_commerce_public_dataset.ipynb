{
  "nbformat": 4,
  "nbformat_minor": 0,
  "metadata": {
    "colab": {
      "provenance": []
    },
    "kernelspec": {
      "name": "python3",
      "display_name": "Python 3"
    },
    "language_info": {
      "name": "python"
    }
  },
  "cells": [
    {
      "cell_type": "markdown",
      "source": [
        "# Proyek Analisis Data: [e_commerce_publik_dataset]\n",
        "- **Nama:** Dicky Candid saragih\n",
        "- **Email:** [dickysaragih050901@gmail.com]\n",
        "- **ID Dicoding:** [Dicky candid Saragih]"
      ],
      "metadata": {
        "id": "8cy5EbX9M3iM"
      }
    },
    {
      "cell_type": "markdown",
      "source": [],
      "metadata": {
        "id": "nVRqgHEiNe6d"
      }
    },
    {
      "cell_type": "markdown",
      "metadata": {
        "id": "eE0raob58DC0"
      },
      "source": [
        "## Menentukan Pertanyaan Bisnis"
      ]
    },
    {
      "cell_type": "markdown",
      "metadata": {
        "id": "GmQeQ5YF8DC0"
      },
      "source": [
        "- \"Apa saja 10 kategori produk yang paling banyak dipesan?\"\n",
        "- \"Bagaimana distribusi total nilai transaksi berdasarkan metode pembayaran?\""
      ]
    },
    {
      "cell_type": "markdown",
      "source": [],
      "metadata": {
        "id": "WEwIEDauOdAQ"
      }
    },
    {
      "cell_type": "markdown",
      "metadata": {
        "id": "H-z4QGlO8DC1"
      },
      "source": [
        "## Import Semua Packages/Library yang Digunakan"
      ]
    },
    {
      "cell_type": "code",
      "source": [
        "import pandas as pd\n",
        "import matplotlib.pyplot as plt\n",
        "import seaborn as sns\n",
        "from google.colab import drive\n",
        "from google.colab import files"
      ],
      "metadata": {
        "id": "T10KfUrdM0iM"
      },
      "execution_count": 134,
      "outputs": []
    },
    {
      "cell_type": "code",
      "source": [
        "# Mount Google Drive\n",
        "drive.mount('/content/drive')\n"
      ],
      "metadata": {
        "colab": {
          "base_uri": "https://localhost:8080/"
        },
        "id": "AyIxAbfhAFAU",
        "outputId": "4576c420-2653-4ee5-9b9f-241f42d4133b"
      },
      "execution_count": 135,
      "outputs": [
        {
          "output_type": "stream",
          "name": "stdout",
          "text": [
            "Drive already mounted at /content/drive; to attempt to forcibly remount, call drive.mount(\"/content/drive\", force_remount=True).\n"
          ]
        }
      ]
    },
    {
      "cell_type": "code",
      "source": [
        "# Define dataset path (Ensure you upload the dataset to your Google Drive and update the path accordingly)\n",
        "dataset_path = '/content/drive/My Drive/E_Commerce_Public_Dataset/'\n"
      ],
      "metadata": {
        "id": "oe-LFyt6AJJu"
      },
      "execution_count": 136,
      "outputs": []
    },
    {
      "cell_type": "markdown",
      "metadata": {
        "id": "h_Sh51Xy8DC1"
      },
      "source": [
        "## Data Wrangling"
      ]
    },
    {
      "cell_type": "code",
      "source": [
        "# 1. Data Wrangling\n",
        "# Load datasets\n",
        "orders = pd.read_csv(f\"{dataset_path}orders_dataset.csv\")\n",
        "order_items = pd.read_csv(f\"{dataset_path}order_items_dataset.csv\")\n",
        "products = pd.read_csv(f\"{dataset_path}products_dataset.csv\")\n",
        "payments = pd.read_csv(f\"{dataset_path}order_payments_dataset.csv\")\n",
        "translations = pd.read_csv(f\"{dataset_path}product_category_name_translation.csv\")\n",
        "\n",
        "# Merge datasets\n",
        "products = products.merge(translations, how='left', on='product_category_name')\n",
        "order_items = order_items.merge(products[['product_id', 'product_category_name_english']], on='product_id', how='left')\n"
      ],
      "metadata": {
        "id": "k8Yr246uAYO9"
      },
      "execution_count": 137,
      "outputs": []
    },
    {
      "cell_type": "markdown",
      "metadata": {
        "id": "sXU2GBYu8DC1"
      },
      "source": [
        "### Gathering Data"
      ]
    },
    {
      "cell_type": "code",
      "source": [
        "# 2. Gathering Data\n",
        "print(\"Orders Dataset:\")\n",
        "print(orders.head())\n",
        "print(\"\\nOrder Items Dataset:\")\n",
        "print(order_items.head())\n",
        "print(\"\\nPayments Dataset:\")\n",
        "print(payments.head())"
      ],
      "metadata": {
        "colab": {
          "base_uri": "https://localhost:8080/"
        },
        "id": "ezobiqFtAgnZ",
        "outputId": "b0ceb6c4-e754-4551-b5ce-570e1db52ca2"
      },
      "execution_count": 138,
      "outputs": [
        {
          "output_type": "stream",
          "name": "stdout",
          "text": [
            "Orders Dataset:\n",
            "                           order_id                       customer_id  \\\n",
            "0  e481f51cbdc54678b7cc49136f2d6af7  9ef432eb6251297304e76186b10a928d   \n",
            "1  53cdb2fc8bc7dce0b6741e2150273451  b0830fb4747a6c6d20dea0b8c802d7ef   \n",
            "2  47770eb9100c2d0c44946d9cf07ec65d  41ce2a54c0b03bf3443c3d931a367089   \n",
            "3  949d5b44dbf5de918fe9c16f97b45f8a  f88197465ea7920adcdbec7375364d82   \n",
            "4  ad21c59c0840e6cb83a9ceb5573f8159  8ab97904e6daea8866dbdbc4fb7aad2c   \n",
            "\n",
            "  order_status order_purchase_timestamp    order_approved_at  \\\n",
            "0    delivered      2017-10-02 10:56:33  2017-10-02 11:07:15   \n",
            "1    delivered      2018-07-24 20:41:37  2018-07-26 03:24:27   \n",
            "2    delivered      2018-08-08 08:38:49  2018-08-08 08:55:23   \n",
            "3    delivered      2017-11-18 19:28:06  2017-11-18 19:45:59   \n",
            "4    delivered      2018-02-13 21:18:39  2018-02-13 22:20:29   \n",
            "\n",
            "  order_delivered_carrier_date order_delivered_customer_date  \\\n",
            "0          2017-10-04 19:55:00           2017-10-10 21:25:13   \n",
            "1          2018-07-26 14:31:00           2018-08-07 15:27:45   \n",
            "2          2018-08-08 13:50:00           2018-08-17 18:06:29   \n",
            "3          2017-11-22 13:39:59           2017-12-02 00:28:42   \n",
            "4          2018-02-14 19:46:34           2018-02-16 18:17:02   \n",
            "\n",
            "  order_estimated_delivery_date  \n",
            "0           2017-10-18 00:00:00  \n",
            "1           2018-08-13 00:00:00  \n",
            "2           2018-09-04 00:00:00  \n",
            "3           2017-12-15 00:00:00  \n",
            "4           2018-02-26 00:00:00  \n",
            "\n",
            "Order Items Dataset:\n",
            "                           order_id  order_item_id  \\\n",
            "0  00010242fe8c5a6d1ba2dd792cb16214              1   \n",
            "1  00018f77f2f0320c557190d7a144bdd3              1   \n",
            "2  000229ec398224ef6ca0657da4fc703e              1   \n",
            "3  00024acbcdf0a6daa1e931b038114c75              1   \n",
            "4  00042b26cf59d7ce69dfabb4e55b4fd9              1   \n",
            "\n",
            "                         product_id                         seller_id  \\\n",
            "0  4244733e06e7ecb4970a6e2683c13e61  48436dade18ac8b2bce089ec2a041202   \n",
            "1  e5f2d52b802189ee658865ca93d83a8f  dd7ddc04e1b6c2c614352b383efe2d36   \n",
            "2  c777355d18b72b67abbeef9df44fd0fd  5b51032eddd242adc84c38acab88f23d   \n",
            "3  7634da152a4610f1595efa32f14722fc  9d7a1d34a5052409006425275ba1c2b4   \n",
            "4  ac6c3623068f30de03045865e4e10089  df560393f3a51e74553ab94004ba5c87   \n",
            "\n",
            "   shipping_limit_date   price  freight_value product_category_name_english  \n",
            "0  2017-09-19 09:45:35   58.90          13.29                    cool_stuff  \n",
            "1  2017-05-03 11:05:13  239.90          19.93                      pet_shop  \n",
            "2  2018-01-18 14:48:30  199.00          17.87               furniture_decor  \n",
            "3  2018-08-15 10:10:18   12.99          12.79                     perfumery  \n",
            "4  2017-02-13 13:57:51  199.90          18.14                  garden_tools  \n",
            "\n",
            "Payments Dataset:\n",
            "                           order_id  payment_sequential payment_type  \\\n",
            "0  b81ef226f3fe1789b1e8b2acac839d17                   1  credit_card   \n",
            "1  a9810da82917af2d9aefd1278f1dcfa0                   1  credit_card   \n",
            "2  25e8ea4e93396b6fa0d3dd708e76c1bd                   1  credit_card   \n",
            "3  ba78997921bbcdc1373bb41e913ab953                   1  credit_card   \n",
            "4  42fdf880ba16b47b59251dd489d4441a                   1  credit_card   \n",
            "\n",
            "   payment_installments  payment_value  \n",
            "0                     8          99.33  \n",
            "1                     1          24.39  \n",
            "2                     1          65.71  \n",
            "3                     8         107.78  \n",
            "4                     2         128.45  \n"
          ]
        }
      ]
    },
    {
      "cell_type": "markdown",
      "metadata": {
        "id": "FHSiqaZp8DC1"
      },
      "source": [
        "### Assessing Data"
      ]
    },
    {
      "cell_type": "code",
      "source": [
        "# 3. Assessing Data\n",
        "print(\"\\nMissing Values:\")\n",
        "print(order_items.isnull().sum())\n",
        "print(payments.isnull().sum())\n"
      ],
      "metadata": {
        "colab": {
          "base_uri": "https://localhost:8080/"
        },
        "id": "CedJwZy0AnL2",
        "outputId": "6bfc2dba-df7f-43f3-dd09-f4692dff7168"
      },
      "execution_count": 139,
      "outputs": [
        {
          "output_type": "stream",
          "name": "stdout",
          "text": [
            "\n",
            "Missing Values:\n",
            "order_id                            0\n",
            "order_item_id                       0\n",
            "product_id                          0\n",
            "seller_id                           0\n",
            "shipping_limit_date                 0\n",
            "price                               0\n",
            "freight_value                       0\n",
            "product_category_name_english    1627\n",
            "dtype: int64\n",
            "order_id                0\n",
            "payment_sequential      0\n",
            "payment_type            0\n",
            "payment_installments    0\n",
            "payment_value           0\n",
            "dtype: int64\n"
          ]
        }
      ]
    },
    {
      "cell_type": "markdown",
      "metadata": {
        "id": "EhN5R4hr8DC1"
      },
      "source": [
        "### Cleaning Data"
      ]
    },
    {
      "cell_type": "code",
      "source": [
        "# 4. Cleaning Data\n",
        "# Remove missing values\n",
        "order_items.dropna(subset=['product_category_name_english'], inplace=True)\n",
        "# Remove duplicates if any\n",
        "order_items.drop_duplicates(inplace=True)\n",
        "payments.drop_duplicates(inplace=True)\n",
        "\n",
        "# Convert relevant columns to appropriate data types\n",
        "orders['order_purchase_timestamp'] = pd.to_datetime(orders['order_purchase_timestamp'])\n",
        "payments['payment_value'] = payments['payment_value'].astype(float)\n",
        "\n"
      ],
      "metadata": {
        "id": "O-NmjHzJAreo"
      },
      "execution_count": 140,
      "outputs": []
    },
    {
      "cell_type": "markdown",
      "source": [],
      "metadata": {
        "id": "_vDiI_viOz4V"
      }
    },
    {
      "cell_type": "markdown",
      "metadata": {
        "id": "gp-Y6wU38DC1"
      },
      "source": [
        "## Exploratory Data Analysis (EDA)"
      ]
    },
    {
      "cell_type": "markdown",
      "metadata": {
        "id": "zsyZjqak8DC2"
      },
      "source": [
        "## Visualization & Explanatory Analysis"
      ]
    },
    {
      "cell_type": "code",
      "source": [
        "# 5. Exploratory Data Analysis (EDA)\n",
        "# Defining Business Questions\n",
        "# 1. What are the top 10 most ordered product categories?\n",
        "# 2. What is the distribution of total transaction value by payment method?\n",
        "\n",
        "# Question 1: Distribution of Orders by Product Category\n",
        "category_counts = order_items['product_category_name_english'].value_counts().reset_index()\n",
        "category_counts.columns = ['product_category_name', 'order_count']\n",
        "\n",
        "# Question 2: Payment Methods and Total Transaction Value\n",
        "payment_totals = payments.groupby('payment_type')['payment_value'].sum().reset_index()\n"
      ],
      "metadata": {
        "id": "cV2DhFM8Ayyx"
      },
      "execution_count": 141,
      "outputs": []
    },
    {
      "cell_type": "code",
      "source": [
        "# 6. Visualization & Explanatory Analysis\n",
        "plt.figure(figsize=(12, 6))\n",
        "sns.barplot(x=category_counts['product_category_name'][:10], y=category_counts['order_count'][:10], palette='viridis')\n",
        "plt.xticks(rotation=45)\n",
        "plt.xlabel('Product Category')\n",
        "plt.ylabel('Number of Orders')\n",
        "plt.title('Top 10 Most Ordered Product Categories')\n",
        "plt.show()\n",
        "\n",
        "plt.figure(figsize=(10, 5))\n",
        "sns.barplot(x='payment_type', y='payment_value', data=payment_totals, palette='coolwarm')\n",
        "plt.xlabel('Payment Method')\n",
        "plt.ylabel('Total Transaction Value')\n",
        "plt.title('Total Transaction Value by Payment Method')\n",
        "plt.show()\n"
      ],
      "metadata": {
        "colab": {
          "base_uri": "https://localhost:8080/",
          "height": 1000
        },
        "id": "wwdfLOxSA_ga",
        "outputId": "d47baa65-7260-4533-e1bd-a8e000f26f02"
      },
      "execution_count": 142,
      "outputs": [
        {
          "output_type": "stream",
          "name": "stderr",
          "text": [
            "<ipython-input-142-285e65e51aa3>:3: FutureWarning: \n",
            "\n",
            "Passing `palette` without assigning `hue` is deprecated and will be removed in v0.14.0. Assign the `x` variable to `hue` and set `legend=False` for the same effect.\n",
            "\n",
            "  sns.barplot(x=category_counts['product_category_name'][:10], y=category_counts['order_count'][:10], palette='viridis')\n"
          ]
        },
        {
          "output_type": "display_data",
          "data": {
            "text/plain": [
              "<Figure size 1200x600 with 1 Axes>"
            ],
            "image/png": "[encoded data removed]"
          },
          "metadata": {}
        },
        {
          "output_type": "stream",
          "name": "stderr",
          "text": [
            "<ipython-input-142-285e65e51aa3>:11: FutureWarning: \n",
            "\n",
            "Passing `palette` without assigning `hue` is deprecated and will be removed in v0.14.0. Assign the `x` variable to `hue` and set `legend=False` for the same effect.\n",
            "\n",
            "  sns.barplot(x='payment_type', y='payment_value', data=payment_totals, palette='coolwarm')\n"
          ]
        },
        {
          "output_type": "display_data",
          "data": {
            "text/plain": [
              "<Figure size 1000x500 with 1 Axes>"
            ],
            "image/png": "[encoded data removed]"
          },
          "metadata": {}
        }
      ]
    },
    {
      "cell_type": "markdown",
      "source": [],
      "metadata": {
        "id": "BlHRoiSHPLIe"
      }
    },
    {
      "cell_type": "markdown",
      "metadata": {
        "id": "HZxOiQ6n8DC2"
      },
      "source": [
        "### Pertanyaan 1:\"Apa saja 10 kategori produk yang paling banyak dipesan?\""
      ]
    },
    {
      "cell_type": "code",
      "source": [
        "# 8. Conclusion\n",
        "print(\"\\nInsights & Conclusions:\")\n",
        "print(\"✔️ Apa saja 10 kategori produk yang paling banyak dipesan?\")\n"
      ],
      "metadata": {
        "colab": {
          "base_uri": "https://localhost:8080/"
        },
        "id": "LyqCZRmTBA6p",
        "outputId": "6407abc8-ae6d-4343-fb38-b47a7552ffcf"
      },
      "execution_count": 143,
      "outputs": [
        {
          "output_type": "stream",
          "name": "stdout",
          "text": [
            "\n",
            "Insights & Conclusions:\n",
            "✔️ Apa saja 10 kategori produk yang paling banyak dipesan?\n"
          ]
        }
      ]
    },
    {
      "cell_type": "markdown",
      "metadata": {
        "id": "DgHI7CiU8DC2"
      },
      "source": [
        "### Pertanyaan 2:"
      ]
    },
    {
      "cell_type": "code",
      "source": [
        "print(\"✔️ Bagaimana distribusi total nilai transaksi berdasarkan metode pembayaran?\")\n",
        "\n",
        "# Save processed data for further analysis\n",
        "category_counts.to_csv(\"category_counts.csv\", index=False)\n",
        "payment_totals.to_csv(\"payment_totals.csv\", index=False)\n",
        "\n",
        "# Download processed files\n",
        "files.download(\"category_counts.csv\")\n",
        "files.download(\"payment_totals.csv\")\n",
        "import os\n",
        "\n"
      ],
      "metadata": {
        "colab": {
          "base_uri": "https://localhost:8080/",
          "height": 34
        },
        "id": "_CSEpAe_FrZm",
        "outputId": "2c3787cb-444e-4ac8-c1bd-56c2912bd885"
      },
      "execution_count": 145,
      "outputs": [
        {
          "output_type": "stream",
          "name": "stdout",
          "text": [
            "✔️ Bagaimana distribusi total nilai transaksi berdasarkan metode pembayaran?\n"
          ]
        },
        {
          "output_type": "display_data",
          "data": {
            "text/plain": [
              "<IPython.core.display.Javascript object>"
            ],
            "application/javascript": [
              "\n",
              "    async function download(id, filename, size) {\n",
              "      if (!google.colab.kernel.accessAllowed) {\n",
              "        return;\n",
              "      }\n",
              "      const div = document.createElement('div');\n",
              "      const label = document.createElement('label');\n",
              "      label.textContent = `Downloading \"${filename}\": `;\n",
              "      div.appendChild(label);\n",
              "      const progress = document.createElement('progress');\n",
              "      progress.max = size;\n",
              "      div.appendChild(progress);\n",
              "      document.body.appendChild(div);\n",
              "\n",
              "      const buffers = [];\n",
              "      let downloaded = 0;\n",
              "\n",
              "      const channel = await google.colab.kernel.comms.open(id);\n",
              "      // Send a message to notify the kernel that we're ready.\n",
              "      channel.send({})\n",
              "\n",
              "      for await (const message of channel.messages) {\n",
              "        // Send a message to notify the kernel that we're ready.\n",
              "        channel.send({})\n",
              "        if (message.buffers) {\n",
              "          for (const buffer of message.buffers) {\n",
              "            buffers.push(buffer);\n",
              "            downloaded += buffer.byteLength;\n",
              "            progress.value = downloaded;\n",
              "          }\n",
              "        }\n",
              "      }\n",
              "      const blob = new Blob(buffers, {type: 'application/binary'});\n",
              "      const a = document.createElement('a');\n",
              "      a.href = window.URL.createObjectURL(blob);\n",
              "      a.download = filename;\n",
              "      div.appendChild(a);\n",
              "      a.click();\n",
              "      div.remove();\n",
              "    }\n",
              "  "
            ]
          },
          "metadata": {}
        },
        {
          "output_type": "display_data",
          "data": {
            "text/plain": [
              "<IPython.core.display.Javascript object>"
            ],
            "application/javascript": [
              "download(\"download_d6d48f58-c8ad-4481-a026-b962fcec3a05\", \"category_counts.csv\", 1532)"
            ]
          },
          "metadata": {}
        },
        {
          "output_type": "display_data",
          "data": {
            "text/plain": [
              "<IPython.core.display.Javascript object>"
            ],
            "application/javascript": [
              "\n",
              "    async function download(id, filename, size) {\n",
              "      if (!google.colab.kernel.accessAllowed) {\n",
              "        return;\n",
              "      }\n",
              "      const div = document.createElement('div');\n",
              "      const label = document.createElement('label');\n",
              "      label.textContent = `Downloading \"${filename}\": `;\n",
              "      div.appendChild(label);\n",
              "      const progress = document.createElement('progress');\n",
              "      progress.max = size;\n",
              "      div.appendChild(progress);\n",
              "      document.body.appendChild(div);\n",
              "\n",
              "      const buffers = [];\n",
              "      let downloaded = 0;\n",
              "\n",
              "      const channel = await google.colab.kernel.comms.open(id);\n",
              "      // Send a message to notify the kernel that we're ready.\n",
              "      channel.send({})\n",
              "\n",
              "      for await (const message of channel.messages) {\n",
              "        // Send a message to notify the kernel that we're ready.\n",
              "        channel.send({})\n",
              "        if (message.buffers) {\n",
              "          for (const buffer of message.buffers) {\n",
              "            buffers.push(buffer);\n",
              "            downloaded += buffer.byteLength;\n",
              "            progress.value = downloaded;\n",
              "          }\n",
              "        }\n",
              "      }\n",
              "      const blob = new Blob(buffers, {type: 'application/binary'});\n",
              "      const a = document.createElement('a');\n",
              "      a.href = window.URL.createObjectURL(blob);\n",
              "      a.download = filename;\n",
              "      div.appendChild(a);\n",
              "      a.click();\n",
              "      div.remove();\n",
              "    }\n",
              "  "
            ]
          },
          "metadata": {}
        },
        {
          "output_type": "display_data",
          "data": {
            "text/plain": [
              "<IPython.core.display.Javascript object>"
            ],
            "application/javascript": [
              "download(\"download_17df3f8a-1793-4fa5-8b94-ad6dbbe60ea0\", \"payment_totals.csv\", 124)"
            ]
          },
          "metadata": {}
        }
      ]
    },
    {
      "cell_type": "markdown",
      "source": [],
      "metadata": {
        "id": "wvGsZUGMP0RL"
      }
    },
    {
      "cell_type": "markdown",
      "metadata": {
        "id": "_WeHlCeX8DC2"
      },
      "source": [
        "## Conclusion"
      ]
    },
    {
      "cell_type": "markdown",
      "source": [],
      "metadata": {
        "id": "3TAUJnQ4P9kk"
      }
    },
    {
      "cell_type": "markdown",
      "metadata": {
        "id": "ZTcyR48Y8DC2"
      },
      "source": [
        "- Apa saja 10 kategori produk yang paling banyak dipesan?\n",
        "kesimpulan yang dapat diperoleh:\n",
        "1. Kategori \"bed_bath_table\" menjadi produk yang paling banyak dipesan(menunjukkan kebutuhan rumah tangga banyak diminati)\n",
        "2. Produk dalam kategori \"health_beauty\" dan \"sports_leisure\" juga memiliki tingkat permintaan tinggi (menandakan tren konsumsi yang berfokus pada kesehatan dan gaya hidup).\n",
        "3. Kategori \"toys\" berada di peringkat ke-10, (produk mainan memiliki pasar tersendiri tetapi tidak sebesar kategori rumah tangga dan kecantikan).\n",
        "\n",
        "- Bagaimana distribusi total nilai transaksi berdasarkan metode pembayaran?\n",
        "kesimpulan yang dapat diperoleh:\n",
        "1. Metode pembayaran paling populer adalah \"credit_card\", yang memiliki total transaksi terbesar (Ini menunjukkan bahwa mayoritas pelanggan lebih suka melakukan pembayaran dengan kartu kredit).\n",
        "2. Metode \"boleto\" juga cukup sering digunakan (bisa menjadi opsi pembayaran yang banyak dipilih oleh pelanggan yang tidak memiliki kartu kredit).\n",
        "3. Metode \"voucher\" dan \"debit_card\" memiliki total transaksi yang jauh lebih rendah, (menandakan bahwa hanya sebagian kecil pelanggan yang menggunakannya)."
      ]
    },
    {
      "cell_type": "code",
      "source": [],
      "metadata": {
        "id": "ojMD9NCSRn2K"
      },
      "execution_count": null,
      "outputs": []
    }
  ]
}